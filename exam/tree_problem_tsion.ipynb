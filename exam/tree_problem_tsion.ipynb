{
  "cells": [
    {
      "metadata": {
        "collapsed": true
      },
      "cell_type": "markdown",
      "source": "## Mid-Term Test Problem (15 pts)\n\nНапишите код для решения задачи в ячейках ниже и убедитесь, что он работает (выполните его).\n\n&gt; **ВАЖНО**: Задание необходимо выполнять самостоятельно, без использования cut-and-paste решений из интернет. В случае одинаковых решений у нескольких учащихся, они не будут рассматриваться, поэтому пишите код самостоятельно, используя интернет лишь как справочное средство.\n\n&gt; **Code of Conduct**: Задача данного теста - проверить индивидуальные знания учащегося. Обращаться за советом или за готовым решением к другим учащимся во время теста запрещается. Пожалуйста, следуйте принципам **академической честности**, которые не приемлют списывание, плагиат и несамостоятельное выполнение работ."
    },
    {
      "metadata": {},
      "cell_type": "markdown",
      "source": "#### Задание 1 (1 pt): Опишите тип данных для представления двоичного дерева "
    },
    {
      "metadata": {
        "trusted": true
      },
      "cell_type": "code",
      "source": "type 'a BTree = \n  | Nil\n  | BTreeNode of value: 'a * left: 'a BTree * right: 'a BTree",
      "execution_count": 10,
      "outputs": []
    },
    {
      "metadata": {},
      "cell_type": "markdown",
      "source": "#### Задание 2 (1 pt): Опишите функцию для добавления целого числа в двоичное дерево поиска\n\nВ двоичном дереве поиска для любого узлового элемента $x$ все элементы в левом поддереве меньше $x$, а в правом поддереве --- больше $x$.\n\nЕсли элемент присутствует в дереве -- ничего не делайте"
    },
    {
      "metadata": {
        "trusted": true
      },
      "cell_type": "code",
      "source": "let rec insert (x: 'a) (t: 'a BTree) =\n  match t with\n   | Nil -> BTreeNode (x, Nil, Nil)\n   | BTreeNode (y, left, right) when x < y -> BTreeNode (x, insert x left, right)\n   | BTreeNode (y, left, right) when x > y -> BTreeNode (x, left, insert x right)\n   | _ -> t",
      "execution_count": 11,
      "outputs": []
    },
    {
      "metadata": {},
      "cell_type": "markdown",
      "source": "#### Задание 3 (1 pt): Сгенерируйте случайное дерево из  20 элементов"
    },
    {
      "metadata": {
        "trusted": true
      },
      "cell_type": "code",
      "source": "open System\n\nlet flip f y x = f x y \n\nlet randTree =\n  let root = Nil\n  let rand = System.Random ()\n  List.init 20 (fun _ -> rand.Next ())\n  |> List.fold (flip insert) root",
      "execution_count": 12,
      "outputs": []
    },
    {
      "metadata": {
        "trusted": true
      },
      "cell_type": "code",
      "source": "randTree",
      "execution_count": 13,
      "outputs": [
        {
          "output_type": "execute_result",
          "execution_count": 13,
          "data": {
            "text/plain": "BTreeNode\n  (1367346372,\n   BTreeNode\n     (787269025,\n      BTreeNode\n        (787269025,BTreeNode (787269025,Nil,BTreeNode (787269025,Nil,Nil)),\n         BTreeNode (1253015731,Nil,Nil)),\n      BTreeNode\n        (1610081392,BTreeNode (227207107,Nil,Nil),BTreeNode (1610081392,Nil,Nil))),\n   BTreeNode\n     (1367346372,\n      BTreeNode\n        (1367346372,BTreeNode (325629078,BTreeNode (325629078,Nil,Nil),Nil),\n         BTreeNode (1367346372,Nil,Nil)),\n      BTreeNode\n        (2061852814,BTreeNode (587182561,Nil,Nil),\n         BTreeNode\n           (2061852814,Nil,\n            BTreeNode\n              (2061852814,Nil,\n               BTreeNode (2061852814,Nil,BTreeNode (2061852814,Nil,Nil)))))))"
          },
          "metadata": {}
        }
      ]
    },
    {
      "metadata": {},
      "cell_type": "markdown",
      "source": "#### Задание  4 (2 pts): Tree-to-Seq\n\nРеализуйте функцию, которая возвращает **последовательность** элементов дерева в инфиксном порядке обхода (left-root-right)."
    },
    {
      "metadata": {
        "trusted": true
      },
      "cell_type": "code",
      "source": "let tree2seq T = \n  let rec traverse btree = seq {\n    match btree with\n     | Nil _ -> ()\n     | BTreeNode (x, left, right) ->\n       yield! traverse left\n       yield x\n       yield! traverse right\n  }\n  traverse T",
      "execution_count": 24,
      "outputs": []
    },
    {
      "metadata": {
        "trusted": true
      },
      "cell_type": "code",
      "source": "tree2seq randTree",
      "execution_count": 25,
      "outputs": [
        {
          "output_type": "execute_result",
          "execution_count": 25,
          "data": {
            "text/plain": "seq [787269025; 787269025; 787269025; 1253015731; ...]"
          },
          "metadata": {}
        }
      ]
    },
    {
      "metadata": {},
      "cell_type": "markdown",
      "source": "#### Задание 5 (4 pts): Генерация пути\n\nНазовём **путём** узла строку из алфавита {\"L\",\"R\"}, в которой каждая следующая буква показывает, в каком направлении необходимо сворачивать, двигаясь от корня дерева к данному узлу. Корневому узлу соответствует пустой путь. Реализуйте функию, которая возвращает последовательность узлов вместе с соответствующими путями, например, { (1,”LLL”), (2, “LLR”), … }."
    },
    {
      "metadata": {
        "trusted": true
      },
      "cell_type": "code",
      "source": "let tree2pathseq T = seq { yield (0,\"\") }",
      "execution_count": 16,
      "outputs": []
    },
    {
      "metadata": {
        "trusted": true
      },
      "cell_type": "code",
      "source": "let res = tree2pathseq rand_tree\nres",
      "execution_count": 17,
      "outputs": [
        {
          "output_type": "stream",
          "text": "The value or constructor 'rand_tree' is not defined. Maybe you want one of the following:\n   randTree",
          "name": "stderr"
        }
      ]
    },
    {
      "metadata": {},
      "cell_type": "markdown",
      "source": "#### Задание 6: Генерация дерева (6 pts)\n\nРеализуйте функцию, которая будет восстанавливать дерево по последовательности путей, наподобие той, которая была получена в предыдущем задании. Очки начисляются следующим образом:\n * 4 pts - если функция требует определённого порядка путей (например, полученного в результате выполнения предыдущей функции)\n * 6 pts - если функция работает для произвольного порядка путей"
    },
    {
      "metadata": {
        "trusted": true
      },
      "cell_type": "code",
      "source": "let pathseq2tree seq = Nothing",
      "execution_count": 18,
      "outputs": [
        {
          "output_type": "stream",
          "text": "The value or constructor 'Nothing' is not defined. Maybe you want one of the following:\n   not",
          "name": "stderr"
        }
      ]
    },
    {
      "metadata": {},
      "cell_type": "markdown",
      "source": "## Сдача результата\n\nДля того, чтобы отправить результат на проверку:\n * Загрузите ноутбук как файл .ipynb\n * Переименуйте его в `TreeProblem_SURNAME.ipynb` (где `SURNAME` - ваша фамилия)\n * Загрузите результат по ссылке https://forms.gle/C3NKrjdfixEMRx6R9"
    },
    {
      "metadata": {
        "trusted": true
      },
      "cell_type": "code",
      "source": "",
      "execution_count": null,
      "outputs": []
    }
  ],
  "metadata": {
    "kernelspec": {
      "name": "ifsharp",
      "display_name": "F#",
      "language": "fsharp"
    },
    "language": "fsharp",
    "language_info": {
      "mimetype": "text/x-fsharp",
      "nbconvert_exporter": "",
      "name": "fsharp",
      "pygments_lexer": "",
      "version": "4.3.1.0",
      "file_extension": ".fs",
      "codemirror_mode": ""
    }
  },
  "nbformat": 4,
  "nbformat_minor": 2
}